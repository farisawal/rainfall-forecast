{
 "cells": [
  {
   "cell_type": "markdown",
   "metadata": {},
   "source": [
    "Import Dependacies"
   ]
  },
  {
   "cell_type": "code",
   "execution_count": 1,
   "metadata": {},
   "outputs": [],
   "source": [
    "import pandas as pd\n",
    "import numpy as np\n",
    "import matplotlib.pyplot as plt\n",
    "from sklearn.preprocessing import RobustScaler\n",
    "from sklearn.model_selection import train_test_split\n",
    "from sklearn.metrics import r2_score\n",
    "from keras.models import Sequential\n",
    "from keras.layers import Dense, Dropout\n",
    "from keras.optimizers import Adam\n",
    "from keras.callbacks import EarlyStopping\n",
    "\n",
    "# Load and preprocess the data\n",
    "df = pd.read_csv('../data/lawas/lawas-rainfall-daily.csv', encoding='latin')\n",
    "df[\"DateTime\"] = pd.to_datetime(df[\"DateTime\"],format=\"%Y-%m-%d\")\n",
    "df.set_index(\"DateTime\",inplace=True)"
   ]
  },
  {
   "cell_type": "markdown",
   "metadata": {},
   "source": [
    "Feature Engineering (Lagged Day - 30 Days)"
   ]
  },
  {
   "cell_type": "code",
   "execution_count": 2,
   "metadata": {},
   "outputs": [],
   "source": [
    "for lag in range(1, 31):\n",
    "    df[f'Rainfall_lag_{lag}'] = df['Rainfall'].shift(lag)\n",
    "    df[f'Temperature_lag_{lag}'] = df['Temperature'].shift(lag)\n",
    "    df[f'Humidity_lag_{lag}'] = df['Humidity'].shift(lag)"
   ]
  },
  {
   "cell_type": "code",
   "execution_count": 3,
   "metadata": {},
   "outputs": [],
   "source": [
    "# Scaling the features and target separately\n",
    "feature_scaler = RobustScaler()\n",
    "target_scaler = RobustScaler()\n",
    "\n",
    "# Separate features and target (Rainfall)\n",
    "features = df.drop(columns=['Rainfall']).reset_index(drop=True)\n",
    "target = df['Rainfall']\n",
    "\n",
    "# Scale features and target\n",
    "features_scaled = feature_scaler.fit_transform(features)\n",
    "target_scaled = target_scaler.fit_transform(target.values.reshape(-1, 1))\n",
    "\n",
    "# Split the data into training and testing sets\n",
    "x_train, x_test, y_train, y_test = train_test_split(\n",
    "    features_scaled, target_scaled, \n",
    "    test_size=0.30, random_state=100, shuffle=False\n",
    ")"
   ]
  },
  {
   "cell_type": "code",
   "execution_count": 4,
   "metadata": {},
   "outputs": [
    {
     "name": "stderr",
     "output_type": "stream",
     "text": [
      "d:\\rainfall-forecast\\.virt\\Lib\\site-packages\\keras\\src\\layers\\core\\dense.py:87: UserWarning: Do not pass an `input_shape`/`input_dim` argument to a layer. When using Sequential models, prefer using an `Input(shape)` object as the first layer in the model instead.\n",
      "  super().__init__(activity_regularizer=activity_regularizer, **kwargs)\n"
     ]
    },
    {
     "name": "stdout",
     "output_type": "stream",
     "text": [
      "Epoch 1/50\n",
      "\u001b[1m4733/4733\u001b[0m \u001b[32m━━━━━━━━━━━━━━━━━━━━\u001b[0m\u001b[37m\u001b[0m \u001b[1m13s\u001b[0m 2ms/step - loss: 2.3092\n",
      "Epoch 2/50\n",
      "\u001b[1m4733/4733\u001b[0m \u001b[32m━━━━━━━━━━━━━━━━━━━━\u001b[0m\u001b[37m\u001b[0m \u001b[1m12s\u001b[0m 3ms/step - loss: 2.1341\n",
      "Epoch 3/50\n",
      "\u001b[1m4733/4733\u001b[0m \u001b[32m━━━━━━━━━━━━━━━━━━━━\u001b[0m\u001b[37m\u001b[0m \u001b[1m10s\u001b[0m 2ms/step - loss: 2.1340\n",
      "Epoch 4/50\n",
      "\u001b[1m4733/4733\u001b[0m \u001b[32m━━━━━━━━━━━━━━━━━━━━\u001b[0m\u001b[37m\u001b[0m \u001b[1m9s\u001b[0m 2ms/step - loss: 2.1341\n",
      "Epoch 5/50\n",
      "\u001b[1m4733/4733\u001b[0m \u001b[32m━━━━━━━━━━━━━━━━━━━━\u001b[0m\u001b[37m\u001b[0m \u001b[1m9s\u001b[0m 2ms/step - loss: 2.1341\n",
      "Epoch 6/50\n",
      "\u001b[1m4733/4733\u001b[0m \u001b[32m━━━━━━━━━━━━━━━━━━━━\u001b[0m\u001b[37m\u001b[0m \u001b[1m9s\u001b[0m 2ms/step - loss: 2.1341\n",
      "Epoch 7/50\n",
      "\u001b[1m4733/4733\u001b[0m \u001b[32m━━━━━━━━━━━━━━━━━━━━\u001b[0m\u001b[37m\u001b[0m \u001b[1m8s\u001b[0m 2ms/step - loss: 2.1341\n",
      "Epoch 8/50\n",
      "\u001b[1m4733/4733\u001b[0m \u001b[32m━━━━━━━━━━━━━━━━━━━━\u001b[0m\u001b[37m\u001b[0m \u001b[1m7s\u001b[0m 2ms/step - loss: 2.1341\n",
      "Epoch 9/50\n",
      "\u001b[1m4733/4733\u001b[0m \u001b[32m━━━━━━━━━━━━━━━━━━━━\u001b[0m\u001b[37m\u001b[0m \u001b[1m7s\u001b[0m 1ms/step - loss: 2.1341\n",
      "Epoch 10/50\n",
      "\u001b[1m4733/4733\u001b[0m \u001b[32m━━━━━━━━━━━━━━━━━━━━\u001b[0m\u001b[37m\u001b[0m \u001b[1m7s\u001b[0m 1ms/step - loss: 2.1341\n",
      "Epoch 11/50\n",
      "\u001b[1m4733/4733\u001b[0m \u001b[32m━━━━━━━━━━━━━━━━━━━━\u001b[0m\u001b[37m\u001b[0m \u001b[1m8s\u001b[0m 2ms/step - loss: 2.1341\n",
      "Epoch 12/50\n",
      "\u001b[1m4733/4733\u001b[0m \u001b[32m━━━━━━━━━━━━━━━━━━━━\u001b[0m\u001b[37m\u001b[0m \u001b[1m7s\u001b[0m 1ms/step - loss: 2.1341\n",
      "Epoch 13/50\n",
      "\u001b[1m4733/4733\u001b[0m \u001b[32m━━━━━━━━━━━━━━━━━━━━\u001b[0m\u001b[37m\u001b[0m \u001b[1m7s\u001b[0m 1ms/step - loss: 2.1341\n",
      "Epoch 14/50\n",
      "\u001b[1m4733/4733\u001b[0m \u001b[32m━━━━━━━━━━━━━━━━━━━━\u001b[0m\u001b[37m\u001b[0m \u001b[1m7s\u001b[0m 1ms/step - loss: 2.1341\n",
      "Epoch 15/50\n",
      "\u001b[1m4733/4733\u001b[0m \u001b[32m━━━━━━━━━━━━━━━━━━━━\u001b[0m\u001b[37m\u001b[0m \u001b[1m7s\u001b[0m 1ms/step - loss: 2.1341\n",
      "Epoch 16/50\n",
      "\u001b[1m4733/4733\u001b[0m \u001b[32m━━━━━━━━━━━━━━━━━━━━\u001b[0m\u001b[37m\u001b[0m \u001b[1m7s\u001b[0m 1ms/step - loss: 2.1341\n",
      "Epoch 17/50\n",
      "\u001b[1m4733/4733\u001b[0m \u001b[32m━━━━━━━━━━━━━━━━━━━━\u001b[0m\u001b[37m\u001b[0m \u001b[1m7s\u001b[0m 1ms/step - loss: 2.1341\n",
      "Epoch 18/50\n",
      "\u001b[1m4733/4733\u001b[0m \u001b[32m━━━━━━━━━━━━━━━━━━━━\u001b[0m\u001b[37m\u001b[0m \u001b[1m7s\u001b[0m 1ms/step - loss: 2.1341\n",
      "Epoch 19/50\n",
      "\u001b[1m4733/4733\u001b[0m \u001b[32m━━━━━━━━━━━━━━━━━━━━\u001b[0m\u001b[37m\u001b[0m \u001b[1m7s\u001b[0m 1ms/step - loss: 2.1341\n",
      "Epoch 20/50\n",
      "\u001b[1m4733/4733\u001b[0m \u001b[32m━━━━━━━━━━━━━━━━━━━━\u001b[0m\u001b[37m\u001b[0m \u001b[1m7s\u001b[0m 1ms/step - loss: 2.1341\n",
      "Epoch 21/50\n",
      "\u001b[1m4733/4733\u001b[0m \u001b[32m━━━━━━━━━━━━━━━━━━━━\u001b[0m\u001b[37m\u001b[0m \u001b[1m7s\u001b[0m 1ms/step - loss: 2.1341\n",
      "Epoch 22/50\n",
      "\u001b[1m4733/4733\u001b[0m \u001b[32m━━━━━━━━━━━━━━━━━━━━\u001b[0m\u001b[37m\u001b[0m \u001b[1m7s\u001b[0m 1ms/step - loss: 2.1341\n",
      "Epoch 23/50\n",
      "\u001b[1m4733/4733\u001b[0m \u001b[32m━━━━━━━━━━━━━━━━━━━━\u001b[0m\u001b[37m\u001b[0m \u001b[1m7s\u001b[0m 1ms/step - loss: 2.1341\n",
      "Epoch 24/50\n",
      "\u001b[1m4733/4733\u001b[0m \u001b[32m━━━━━━━━━━━━━━━━━━━━\u001b[0m\u001b[37m\u001b[0m \u001b[1m7s\u001b[0m 1ms/step - loss: 2.1341\n",
      "Epoch 25/50\n",
      "\u001b[1m4733/4733\u001b[0m \u001b[32m━━━━━━━━━━━━━━━━━━━━\u001b[0m\u001b[37m\u001b[0m \u001b[1m7s\u001b[0m 2ms/step - loss: 2.1341\n",
      "Epoch 26/50\n",
      "\u001b[1m4733/4733\u001b[0m \u001b[32m━━━━━━━━━━━━━━━━━━━━\u001b[0m\u001b[37m\u001b[0m \u001b[1m7s\u001b[0m 2ms/step - loss: 2.1341\n",
      "Epoch 27/50\n",
      "\u001b[1m4733/4733\u001b[0m \u001b[32m━━━━━━━━━━━━━━━━━━━━\u001b[0m\u001b[37m\u001b[0m \u001b[1m7s\u001b[0m 1ms/step - loss: 2.1341\n",
      "Epoch 28/50\n",
      "\u001b[1m4733/4733\u001b[0m \u001b[32m━━━━━━━━━━━━━━━━━━━━\u001b[0m\u001b[37m\u001b[0m \u001b[1m7s\u001b[0m 1ms/step - loss: 2.1341\n",
      "Epoch 29/50\n",
      "\u001b[1m4733/4733\u001b[0m \u001b[32m━━━━━━━━━━━━━━━━━━━━\u001b[0m\u001b[37m\u001b[0m \u001b[1m7s\u001b[0m 1ms/step - loss: 2.1341\n",
      "Epoch 30/50\n",
      "\u001b[1m4733/4733\u001b[0m \u001b[32m━━━━━━━━━━━━━━━━━━━━\u001b[0m\u001b[37m\u001b[0m \u001b[1m7s\u001b[0m 1ms/step - loss: 2.1341\n",
      "Epoch 31/50\n",
      "\u001b[1m4733/4733\u001b[0m \u001b[32m━━━━━━━━━━━━━━━━━━━━\u001b[0m\u001b[37m\u001b[0m \u001b[1m7s\u001b[0m 1ms/step - loss: 2.1341\n",
      "Epoch 32/50\n",
      "\u001b[1m4733/4733\u001b[0m \u001b[32m━━━━━━━━━━━━━━━━━━━━\u001b[0m\u001b[37m\u001b[0m \u001b[1m7s\u001b[0m 2ms/step - loss: 2.1341\n",
      "Epoch 33/50\n",
      "\u001b[1m4733/4733\u001b[0m \u001b[32m━━━━━━━━━━━━━━━━━━━━\u001b[0m\u001b[37m\u001b[0m \u001b[1m7s\u001b[0m 1ms/step - loss: 2.1341\n",
      "Epoch 34/50\n",
      "\u001b[1m4733/4733\u001b[0m \u001b[32m━━━━━━━━━━━━━━━━━━━━\u001b[0m\u001b[37m\u001b[0m \u001b[1m7s\u001b[0m 1ms/step - loss: 2.1341\n",
      "Epoch 35/50\n",
      "\u001b[1m4733/4733\u001b[0m \u001b[32m━━━━━━━━━━━━━━━━━━━━\u001b[0m\u001b[37m\u001b[0m \u001b[1m7s\u001b[0m 2ms/step - loss: 2.1341\n",
      "Epoch 36/50\n",
      "\u001b[1m4733/4733\u001b[0m \u001b[32m━━━━━━━━━━━━━━━━━━━━\u001b[0m\u001b[37m\u001b[0m \u001b[1m7s\u001b[0m 2ms/step - loss: 2.1341\n",
      "Epoch 37/50\n",
      "\u001b[1m4733/4733\u001b[0m \u001b[32m━━━━━━━━━━━━━━━━━━━━\u001b[0m\u001b[37m\u001b[0m \u001b[1m7s\u001b[0m 1ms/step - loss: 2.1341\n",
      "Epoch 38/50\n",
      "\u001b[1m4733/4733\u001b[0m \u001b[32m━━━━━━━━━━━━━━━━━━━━\u001b[0m\u001b[37m\u001b[0m \u001b[1m7s\u001b[0m 1ms/step - loss: 2.1341\n",
      "Epoch 39/50\n",
      "\u001b[1m4733/4733\u001b[0m \u001b[32m━━━━━━━━━━━━━━━━━━━━\u001b[0m\u001b[37m\u001b[0m \u001b[1m7s\u001b[0m 1ms/step - loss: 2.1341\n",
      "Epoch 40/50\n",
      "\u001b[1m4733/4733\u001b[0m \u001b[32m━━━━━━━━━━━━━━━━━━━━\u001b[0m\u001b[37m\u001b[0m \u001b[1m7s\u001b[0m 1ms/step - loss: 2.1341\n",
      "Epoch 41/50\n",
      "\u001b[1m4733/4733\u001b[0m \u001b[32m━━━━━━━━━━━━━━━━━━━━\u001b[0m\u001b[37m\u001b[0m \u001b[1m7s\u001b[0m 1ms/step - loss: 2.1341\n",
      "Epoch 42/50\n",
      "\u001b[1m4733/4733\u001b[0m \u001b[32m━━━━━━━━━━━━━━━━━━━━\u001b[0m\u001b[37m\u001b[0m \u001b[1m7s\u001b[0m 1ms/step - loss: 2.1341\n",
      "Epoch 43/50\n",
      "\u001b[1m4733/4733\u001b[0m \u001b[32m━━━━━━━━━━━━━━━━━━━━\u001b[0m\u001b[37m\u001b[0m \u001b[1m7s\u001b[0m 2ms/step - loss: 2.1341\n",
      "Epoch 44/50\n",
      "\u001b[1m4733/4733\u001b[0m \u001b[32m━━━━━━━━━━━━━━━━━━━━\u001b[0m\u001b[37m\u001b[0m \u001b[1m7s\u001b[0m 2ms/step - loss: 2.1341\n",
      "Epoch 45/50\n",
      "\u001b[1m4733/4733\u001b[0m \u001b[32m━━━━━━━━━━━━━━━━━━━━\u001b[0m\u001b[37m\u001b[0m \u001b[1m7s\u001b[0m 1ms/step - loss: 2.1341\n",
      "Epoch 46/50\n",
      "\u001b[1m4733/4733\u001b[0m \u001b[32m━━━━━━━━━━━━━━━━━━━━\u001b[0m\u001b[37m\u001b[0m \u001b[1m7s\u001b[0m 1ms/step - loss: 2.1341\n",
      "Epoch 47/50\n",
      "\u001b[1m4733/4733\u001b[0m \u001b[32m━━━━━━━━━━━━━━━━━━━━\u001b[0m\u001b[37m\u001b[0m \u001b[1m10s\u001b[0m 1ms/step - loss: 2.1341\n",
      "Epoch 48/50\n",
      "\u001b[1m4733/4733\u001b[0m \u001b[32m━━━━━━━━━━━━━━━━━━━━\u001b[0m\u001b[37m\u001b[0m \u001b[1m7s\u001b[0m 1ms/step - loss: 2.1341\n",
      "Epoch 49/50\n",
      "\u001b[1m4733/4733\u001b[0m \u001b[32m━━━━━━━━━━━━━━━━━━━━\u001b[0m\u001b[37m\u001b[0m \u001b[1m7s\u001b[0m 1ms/step - loss: 2.1341\n",
      "Epoch 50/50\n",
      "\u001b[1m4733/4733\u001b[0m \u001b[32m━━━━━━━━━━━━━━━━━━━━\u001b[0m\u001b[37m\u001b[0m \u001b[1m7s\u001b[0m 2ms/step - loss: 2.1341\n"
     ]
    }
   ],
   "source": [
    "nn_model = Sequential()\n",
    "nn_model.add(Dense(12, input_dim=x_train.shape[1], activation='relu'))\n",
    "nn_model.add(Dense(1))\n",
    "nn_model.compile(loss='mean_squared_error', optimizer='adam')\n",
    "early_stop = EarlyStopping(monitor='loss', patience=10, verbose=1)\n",
    "history = nn_model.fit(x_train, y_train, epochs=50, batch_size=1, verbose=1, shuffle=False)"
   ]
  },
  {
   "cell_type": "code",
   "execution_count": 5,
   "metadata": {},
   "outputs": [
    {
     "name": "stdout",
     "output_type": "stream",
     "text": [
      "\u001b[1m64/64\u001b[0m \u001b[32m━━━━━━━━━━━━━━━━━━━━\u001b[0m\u001b[37m\u001b[0m \u001b[1m0s\u001b[0m 2ms/step\n",
      "\u001b[1m148/148\u001b[0m \u001b[32m━━━━━━━━━━━━━━━━━━━━\u001b[0m\u001b[37m\u001b[0m \u001b[1m0s\u001b[0m 2ms/step\n",
      "The R2 score on the Train set is:\t-0.000\n",
      "The R2 score on the Test set is:\t-0.001\n"
     ]
    }
   ],
   "source": [
    "y_pred_test_nn = nn_model.predict(x_test)\n",
    "y_train_pred_nn = nn_model.predict(x_train)\n",
    "print(\"The R2 score on the Train set is:\\t{:0.3f}\".format(r2_score(y_train, y_train_pred_nn)))\n",
    "print(\"The R2 score on the Test set is:\\t{:0.3f}\".format(r2_score(y_test, y_pred_test_nn)))"
   ]
  }
 ],
 "metadata": {
  "kernelspec": {
   "display_name": ".virt",
   "language": "python",
   "name": "python3"
  },
  "language_info": {
   "codemirror_mode": {
    "name": "ipython",
    "version": 3
   },
   "file_extension": ".py",
   "mimetype": "text/x-python",
   "name": "python",
   "nbconvert_exporter": "python",
   "pygments_lexer": "ipython3",
   "version": "3.11.0"
  }
 },
 "nbformat": 4,
 "nbformat_minor": 2
}
