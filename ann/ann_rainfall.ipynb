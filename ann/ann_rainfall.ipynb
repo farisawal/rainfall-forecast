{
 "cells": [
  {
   "cell_type": "markdown",
   "metadata": {},
   "source": [
    "Import Dependacies"
   ]
  },
  {
   "cell_type": "code",
   "execution_count": 20,
   "metadata": {},
   "outputs": [],
   "source": [
    "import pandas as pd\n",
    "import numpy as np\n",
    "import matplotlib.pyplot as plt\n",
    "from sklearn.preprocessing import RobustScaler\n",
    "from sklearn.model_selection import train_test_split\n",
    "from sklearn.metrics import r2_score\n",
    "from keras.models import Sequential\n",
    "from keras.layers import Dense, Dropout\n",
    "from keras.optimizers import Adam\n",
    "from keras.callbacks import EarlyStopping\n",
    "\n",
    "# Load and preprocess the data\n",
    "df = pd.read_csv('../data/lawas/lawas-rainfall-daily.csv', encoding='latin')\n",
    "df[\"DateTime\"] = pd.to_datetime(df[\"DateTime\"],format=\"%Y-%m-%d\")\n",
    "df.set_index(\"DateTime\",inplace=True)"
   ]
  },
  {
   "cell_type": "markdown",
   "metadata": {},
   "source": [
    "Feature Engineering (Lagged Day - 30 Days)"
   ]
  },
  {
   "cell_type": "code",
   "execution_count": 13,
   "metadata": {},
   "outputs": [],
   "source": [
    "for lag in range(1, 31):\n",
    "    df[f'Rainfall_lag_{lag}'] = df['Rainfall'].shift(lag)\n",
    "    df[f'Temperature_lag_{lag}'] = df['Temperature'].shift(lag)\n",
    "    df[f'Humidity_lag_{lag}'] = df['Humidity'].shift(lag)"
   ]
  },
  {
   "cell_type": "code",
   "execution_count": 14,
   "metadata": {},
   "outputs": [],
   "source": [
    "# Scaling the features and target separately\n",
    "feature_scaler = RobustScaler()\n",
    "target_scaler = RobustScaler()\n",
    "\n",
    "# Separate features and target (Rainfall)\n",
    "features = df.drop(columns=['Rainfall']).reset_index(drop=True)\n",
    "target = df['Rainfall']\n",
    "\n",
    "# Scale features and target\n",
    "features_scaled = feature_scaler.fit_transform(features)\n",
    "target_scaled = target_scaler.fit_transform(target.values.reshape(-1, 1))\n",
    "\n",
    "# Split the data into training and testing sets\n",
    "x_train, x_test, y_train, y_test = train_test_split(\n",
    "    features_scaled, target_scaled, \n",
    "    test_size=0.30, random_state=100, shuffle=False\n",
    ")"
   ]
  },
  {
   "cell_type": "code",
   "execution_count": 19,
   "metadata": {},
   "outputs": [
    {
     "name": "stdout",
     "output_type": "stream",
     "text": [
      "Epoch 1/100\n"
     ]
    },
    {
     "name": "stderr",
     "output_type": "stream",
     "text": [
      "c:\\Users\\UlamKetum\\rainfall-forecast\\ann\\.virt\\Lib\\site-packages\\keras\\src\\layers\\core\\dense.py:87: UserWarning: Do not pass an `input_shape`/`input_dim` argument to a layer. When using Sequential models, prefer using an `Input(shape)` object as the first layer in the model instead.\n",
      "  super().__init__(activity_regularizer=activity_regularizer, **kwargs)\n"
     ]
    },
    {
     "name": "stdout",
     "output_type": "stream",
     "text": [
      "\u001b[1m4733/4733\u001b[0m \u001b[32m━━━━━━━━━━━━━━━━━━━━\u001b[0m\u001b[37m\u001b[0m \u001b[1m3s\u001b[0m 591us/step - loss: 2.3092\n",
      "Epoch 2/100\n",
      "\u001b[1m4733/4733\u001b[0m \u001b[32m━━━━━━━━━━━━━━━━━━━━\u001b[0m\u001b[37m\u001b[0m \u001b[1m3s\u001b[0m 609us/step - loss: 2.1341\n",
      "Epoch 3/100\n",
      "\u001b[1m4733/4733\u001b[0m \u001b[32m━━━━━━━━━━━━━━━━━━━━\u001b[0m\u001b[37m\u001b[0m \u001b[1m3s\u001b[0m 592us/step - loss: 2.1340\n",
      "Epoch 4/100\n",
      "\u001b[1m4733/4733\u001b[0m \u001b[32m━━━━━━━━━━━━━━━━━━━━\u001b[0m\u001b[37m\u001b[0m \u001b[1m3s\u001b[0m 613us/step - loss: 2.1341\n",
      "Epoch 5/100\n",
      "\u001b[1m4733/4733\u001b[0m \u001b[32m━━━━━━━━━━━━━━━━━━━━\u001b[0m\u001b[37m\u001b[0m \u001b[1m3s\u001b[0m 583us/step - loss: 2.1341\n",
      "Epoch 6/100\n",
      "\u001b[1m4733/4733\u001b[0m \u001b[32m━━━━━━━━━━━━━━━━━━━━\u001b[0m\u001b[37m\u001b[0m \u001b[1m3s\u001b[0m 583us/step - loss: 2.1341\n",
      "Epoch 7/100\n",
      "\u001b[1m4733/4733\u001b[0m \u001b[32m━━━━━━━━━━━━━━━━━━━━\u001b[0m\u001b[37m\u001b[0m \u001b[1m3s\u001b[0m 604us/step - loss: 2.1341\n",
      "Epoch 8/100\n",
      "\u001b[1m4733/4733\u001b[0m \u001b[32m━━━━━━━━━━━━━━━━━━━━\u001b[0m\u001b[37m\u001b[0m \u001b[1m3s\u001b[0m 588us/step - loss: 2.1341\n",
      "Epoch 9/100\n",
      "\u001b[1m4733/4733\u001b[0m \u001b[32m━━━━━━━━━━━━━━━━━━━━\u001b[0m\u001b[37m\u001b[0m \u001b[1m3s\u001b[0m 580us/step - loss: 2.1341\n",
      "Epoch 10/100\n",
      "\u001b[1m4733/4733\u001b[0m \u001b[32m━━━━━━━━━━━━━━━━━━━━\u001b[0m\u001b[37m\u001b[0m \u001b[1m3s\u001b[0m 585us/step - loss: 2.1341\n",
      "Epoch 11/100\n",
      "\u001b[1m4733/4733\u001b[0m \u001b[32m━━━━━━━━━━━━━━━━━━━━\u001b[0m\u001b[37m\u001b[0m \u001b[1m3s\u001b[0m 613us/step - loss: 2.1341\n",
      "Epoch 12/100\n",
      "\u001b[1m4733/4733\u001b[0m \u001b[32m━━━━━━━━━━━━━━━━━━━━\u001b[0m\u001b[37m\u001b[0m \u001b[1m3s\u001b[0m 586us/step - loss: 2.1341\n",
      "Epoch 13/100\n",
      "\u001b[1m4733/4733\u001b[0m \u001b[32m━━━━━━━━━━━━━━━━━━━━\u001b[0m\u001b[37m\u001b[0m \u001b[1m3s\u001b[0m 579us/step - loss: 2.1341\n",
      "Epoch 14/100\n",
      "\u001b[1m4733/4733\u001b[0m \u001b[32m━━━━━━━━━━━━━━━━━━━━\u001b[0m\u001b[37m\u001b[0m \u001b[1m3s\u001b[0m 592us/step - loss: 2.1341\n",
      "Epoch 15/100\n",
      "\u001b[1m4733/4733\u001b[0m \u001b[32m━━━━━━━━━━━━━━━━━━━━\u001b[0m\u001b[37m\u001b[0m \u001b[1m3s\u001b[0m 601us/step - loss: 2.1341\n",
      "Epoch 15: early stopping\n"
     ]
    }
   ],
   "source": [
    "nn_model = Sequential()\n",
    "nn_model.add(Dense(12, input_dim=x_train.shape[1], activation='relu'))\n",
    "nn_model.add(Dense(1))\n",
    "nn_model.compile(loss='mean_squared_error', optimizer='adam')\n",
    "early_stop = EarlyStopping(monitor='loss', patience=10, verbose=1)\n",
    "history = nn_model.fit(x_train, y_train, epochs=100, batch_size=1, verbose=1, callbacks=[early_stop], shuffle=False)"
   ]
  },
  {
   "cell_type": "code",
   "execution_count": 22,
   "metadata": {},
   "outputs": [
    {
     "name": "stdout",
     "output_type": "stream",
     "text": [
      "\u001b[1m64/64\u001b[0m \u001b[32m━━━━━━━━━━━━━━━━━━━━\u001b[0m\u001b[37m\u001b[0m \u001b[1m0s\u001b[0m 852us/step\n",
      "\u001b[1m148/148\u001b[0m \u001b[32m━━━━━━━━━━━━━━━━━━━━\u001b[0m\u001b[37m\u001b[0m \u001b[1m0s\u001b[0m 427us/step\n",
      "The R2 score on the Train set is:\t-0.000\n",
      "The R2 score on the Test set is:\t-0.001\n"
     ]
    }
   ],
   "source": [
    "y_pred_test_nn = nn_model.predict(x_test)\n",
    "y_train_pred_nn = nn_model.predict(x_train)\n",
    "print(\"The R2 score on the Train set is:\\t{:0.3f}\".format(r2_score(y_train, y_train_pred_nn)))\n",
    "print(\"The R2 score on the Test set is:\\t{:0.3f}\".format(r2_score(y_test, y_pred_test_nn)))"
   ]
  }
 ],
 "metadata": {
  "kernelspec": {
   "display_name": ".virt",
   "language": "python",
   "name": "python3"
  },
  "language_info": {
   "codemirror_mode": {
    "name": "ipython",
    "version": 3
   },
   "file_extension": ".py",
   "mimetype": "text/x-python",
   "name": "python",
   "nbconvert_exporter": "python",
   "pygments_lexer": "ipython3",
   "version": "3.11.0"
  }
 },
 "nbformat": 4,
 "nbformat_minor": 2
}
